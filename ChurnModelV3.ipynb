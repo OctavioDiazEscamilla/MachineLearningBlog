{
 "cells": [
  {
   "cell_type": "code",
   "execution_count": 1,
   "metadata": {},
   "outputs": [],
   "source": [
    "import pandas as pd\n",
    "import numpy as np\n",
    "import matplotlib.pyplot as plt\n",
    "import sklearn\n",
    "\n",
    "from sklearn import model_selection\n",
    "from sklearn.linear_model import LogisticRegression\n",
    "from sklearn.metrics import confusion_matrix\n",
    "from sklearn.preprocessing import StandardScaler\n",
    "from sklearn.model_selection import train_test_split"
   ]
  },
  {
   "cell_type": "markdown",
   "metadata": {},
   "source": [
    "# Cargar datos y transformar Gender a dummy"
   ]
  },
  {
   "cell_type": "code",
   "execution_count": 2,
   "metadata": {},
   "outputs": [
    {
     "data": {
      "text/html": [
       "<div>\n",
       "<style scoped>\n",
       "    .dataframe tbody tr th:only-of-type {\n",
       "        vertical-align: middle;\n",
       "    }\n",
       "\n",
       "    .dataframe tbody tr th {\n",
       "        vertical-align: top;\n",
       "    }\n",
       "\n",
       "    .dataframe thead th {\n",
       "        text-align: right;\n",
       "    }\n",
       "</style>\n",
       "<table border=\"1\" class=\"dataframe\">\n",
       "  <thead>\n",
       "    <tr style=\"text-align: right;\">\n",
       "      <th></th>\n",
       "      <th>Female</th>\n",
       "      <th>Male</th>\n",
       "      <th>IsActiveMember</th>\n",
       "      <th>Age</th>\n",
       "      <th>HasCrCard</th>\n",
       "      <th>NumOfProducts</th>\n",
       "      <th>Balance</th>\n",
       "    </tr>\n",
       "  </thead>\n",
       "  <tbody>\n",
       "    <tr>\n",
       "      <th>0</th>\n",
       "      <td>1</td>\n",
       "      <td>0</td>\n",
       "      <td>1</td>\n",
       "      <td>42</td>\n",
       "      <td>1</td>\n",
       "      <td>1</td>\n",
       "      <td>0.00</td>\n",
       "    </tr>\n",
       "    <tr>\n",
       "      <th>1</th>\n",
       "      <td>1</td>\n",
       "      <td>0</td>\n",
       "      <td>1</td>\n",
       "      <td>41</td>\n",
       "      <td>0</td>\n",
       "      <td>1</td>\n",
       "      <td>83807.86</td>\n",
       "    </tr>\n",
       "    <tr>\n",
       "      <th>2</th>\n",
       "      <td>1</td>\n",
       "      <td>0</td>\n",
       "      <td>0</td>\n",
       "      <td>42</td>\n",
       "      <td>1</td>\n",
       "      <td>3</td>\n",
       "      <td>159660.80</td>\n",
       "    </tr>\n",
       "    <tr>\n",
       "      <th>3</th>\n",
       "      <td>1</td>\n",
       "      <td>0</td>\n",
       "      <td>0</td>\n",
       "      <td>39</td>\n",
       "      <td>0</td>\n",
       "      <td>2</td>\n",
       "      <td>0.00</td>\n",
       "    </tr>\n",
       "    <tr>\n",
       "      <th>4</th>\n",
       "      <td>1</td>\n",
       "      <td>0</td>\n",
       "      <td>1</td>\n",
       "      <td>43</td>\n",
       "      <td>1</td>\n",
       "      <td>1</td>\n",
       "      <td>125510.82</td>\n",
       "    </tr>\n",
       "  </tbody>\n",
       "</table>\n",
       "</div>"
      ],
      "text/plain": [
       "   Female  Male  IsActiveMember  Age  HasCrCard  NumOfProducts    Balance\n",
       "0       1     0               1   42          1              1       0.00\n",
       "1       1     0               1   41          0              1   83807.86\n",
       "2       1     0               0   42          1              3  159660.80\n",
       "3       1     0               0   39          0              2       0.00\n",
       "4       1     0               1   43          1              1  125510.82"
      ]
     },
     "execution_count": 2,
     "metadata": {},
     "output_type": "execute_result"
    }
   ],
   "source": [
    "churn_df = pd.read_csv(\"C:/Users/Usuario/Anaconda3/Tavo/BankChurn/BankData01.csv\")\n",
    "y = churn_df['Exited']\n",
    "X1 = pd.get_dummies(churn_df['Gender'])\n",
    "X2 = churn_df[[\"IsActiveMember\", \"Age\", \"HasCrCard\", \"NumOfProducts\", \"Balance\"]]\n",
    "X = pd.concat([X1, X2], axis=1)\n",
    "X.head()"
   ]
  },
  {
   "cell_type": "code",
   "execution_count": 5,
   "metadata": {},
   "outputs": [
    {
     "name": "stdout",
     "output_type": "stream",
     "text": [
      "0.7963\n",
      "[[7963    0]\n",
      " [2037    0]]\n",
      "[0.23411032 0.22002944 0.24752053 0.22108236 0.21431372 0.19149273\n",
      " 0.28637373 0.21227519 0.30297131]\n",
      "Max score for churn: 0.3683\n",
      "Average score for churn: 0.2462\n"
     ]
    }
   ],
   "source": [
    "logclf = LogisticRegression(solver='liblinear')\n",
    "logclf.fit(X, y)\n",
    "accuracy = logclf.score(X, y)\n",
    "print(accuracy)\n",
    "With the confusion matrix we see the model says everything is not a churn. \n",
    "print(confusion_matrix(y, logclf.predict(X)))\n",
    "Score of \"Yes\" churning. The predict_proba returns an array with 2 columns:\n",
    "one with the probability of 0 (non churn) and the other with the probability of 1 (churn)\n",
    "We are only interested in the second column, the probability of churn\n",
    "scores = logclf.predict_proba(X)[:, 1]\n",
    "print(scores[1:10])\n",
    "Then we get some insights about the churn probabilities. \n",
    "print('Max score for churn:', scores.max().round(4))\n",
    "print('Average score for churn:', scores.mean().round(4))"
   ]
  },
  {
   "cell_type": "code",
   "execution_count": 9,
   "metadata": {},
   "outputs": [
    {
     "name": "stdout",
     "output_type": "stream",
     "text": [
      "   Exited  churn_pred\n",
      "0       1           0\n",
      "1       0           0\n",
      "2       1           0\n",
      "3       0           0\n",
      "4       0           0\n",
      "5       1           0\n",
      "6       0           0\n",
      "7       1           1\n",
      "8       0           0\n",
      "9       0           1\n",
      "churn_pred     0     1\n",
      "Exited                \n",
      "0           3402  4561\n",
      "1           1581   456\n",
      "True positive rate: 0.224\n",
      "False positive rate: 0.573\n"
     ]
    }
   ],
   "source": [
    "#We establish a cutoff for the probability of 1 (churn). \n",
    "#Anything above the cutoff will be considered as a churner. \n",
    "churn_df['churn_pred'] = (scores > 0.25).astype(int)\n",
    "print(churn_df.iloc[:, 13:15].head(10))\n",
    "conf1 = pd.crosstab(churn_df['Exited'], churn_df['churn_pred'])\n",
    "print(conf1)\n",
    "tp1 = conf1.iloc[1, 1]/(conf1.iloc[1, 0] + conf1.iloc[1, 1])\n",
    "print('True positive rate:', tp1.round(3))\n",
    "fp1 = conf1.iloc[0, 1]/(conf1.iloc[0, 0] + conf1.iloc[0, 1])\n",
    "print('False positive rate:', fp1.round(3))"
   ]
  },
  {
   "cell_type": "markdown",
   "metadata": {},
   "source": [
    "# Hacer datos para prueba y Escalar datos"
   ]
  },
  {
   "cell_type": "code",
   "execution_count": 65,
   "metadata": {},
   "outputs": [],
   "source": [
    "#X_train, X_test, y_train, y_test = train_test_split(X, y, test_size = 0.20)\n",
    "#X_train_esc = escalador.fit_transform(x_train)\n",
    "#X_test_esc = escalador.transform(x_test)"
   ]
  },
  {
   "cell_type": "code",
   "execution_count": 72,
   "metadata": {},
   "outputs": [],
   "source": [
    "escalador = StandardScaler()\n",
    "X_esc = escalador.fit_transform(X)\n",
    "logclf2 = LogisticRegression(solver='liblinear')\n",
    "logclf2.fit(X_esc, y)\n",
    "accuracy = logclf2.score(X_esc, y)\n",
    "scores2 = logclf2.predict_proba(X_esc)[:, 1]"
   ]
  },
  {
   "cell_type": "code",
   "execution_count": 73,
   "metadata": {},
   "outputs": [
    {
     "name": "stdout",
     "output_type": "stream",
     "text": [
      "churn_pred_esc     0     1\n",
      "Exited                    \n",
      "0               6245  1718\n",
      "1                839  1198\n",
      "Truse positive rate: 0.588\n",
      "False positive rate: 0.216\n"
     ]
    }
   ],
   "source": [
    "churn_df['churn_pred_esc'] = (scores2 > 0.25).astype(int)\n",
    "churn_df.head(50)\n",
    "conf2 = pd.crosstab(churn_df['Exited'], churn_df['churn_pred_esc'])\n",
    "print(conf2)\n",
    "#True positive rate = True positive / (true positives + false negatives)\n",
    "tp2 = conf2.iloc[1, 1]/(conf2.iloc[1, 0] + conf2.iloc[1, 1])\n",
    "print('True positive rate:', tp2.round(3))\n",
    "#False positive rate = False positive / (false positive + true negative)\n",
    "fp2 = conf2.iloc[0, 1]/(conf2.iloc[0, 0] + conf2.iloc[0, 1])\n",
    "print('False positive rate:', fp2.round(3))\n",
    "\n",
    "#print(conf2.iloc[0, 1] + conf2.iloc[1, 1])\n",
    "#print(conf2.iloc[1, 1] / (conf2.iloc[0, 1] + conf2.iloc[1, 1]))"
   ]
  },
  {
   "cell_type": "code",
   "execution_count": null,
   "metadata": {},
   "outputs": [],
   "source": []
  },
  {
   "cell_type": "code",
   "execution_count": null,
   "metadata": {},
   "outputs": [],
   "source": []
  }
 ],
 "metadata": {
  "kernelspec": {
   "display_name": "Python 3",
   "language": "python",
   "name": "python3"
  },
  "language_info": {
   "codemirror_mode": {
    "name": "ipython",
    "version": 3
   },
   "file_extension": ".py",
   "mimetype": "text/x-python",
   "name": "python",
   "nbconvert_exporter": "python",
   "pygments_lexer": "ipython3",
   "version": "3.7.3"
  }
 },
 "nbformat": 4,
 "nbformat_minor": 2
}
